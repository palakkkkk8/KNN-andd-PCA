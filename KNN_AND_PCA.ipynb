{
  "nbformat": 4,
  "nbformat_minor": 0,
  "metadata": {
    "colab": {
      "provenance": []
    },
    "kernelspec": {
      "name": "python3",
      "display_name": "Python 3"
    },
    "language_info": {
      "name": "python"
    }
  },
  "cells": [
    {
      "cell_type": "markdown",
      "source": [
        "#KNN and PCA"
      ],
      "metadata": {
        "id": "QRki1RW5UUxN"
      }
    },
    {
      "cell_type": "markdown",
      "source": [
        "1.  What is K-Nearest Neighbors (KNN) and how does it work in both\n",
        "classification and regression problems?\n",
        "\n",
        "Ans- K-Nearest Neighbors (KNN):\n",
        "It is a supervised learning algorithm that makes predictions based on the similarity (distance) between data points.\n",
        "\n",
        "Classification: Finds the k closest neighbors and assigns the class that appears most frequently among them (majority voting).\n",
        "\n",
        "Regression: Finds the k closest neighbors and predicts the value by averaging their target values."
      ],
      "metadata": {
        "id": "bWx5RiG8Ub9T"
      }
    },
    {
      "cell_type": "markdown",
      "source": [
        "2. What is the Curse of Dimensionality and how does it affect KNN\n",
        "performance?\n",
        "\n",
        "Ans- Curse of Dimensionality:\n",
        "It refers to problems that arise when data has too many features (high dimensions).\n",
        "\n",
        "Effect on KNN:\n",
        "\n",
        "Distances between points become less meaningful (all points seem equally far).\n",
        "\n",
        "Nearest neighbors may not be truly \"close.\"\n",
        "\n",
        "Leads to poor accuracy, high computation, and overfitting."
      ],
      "metadata": {
        "id": "Gn1Qv8SLU0tB"
      }
    },
    {
      "cell_type": "markdown",
      "source": [
        "3. What is Principal Component Analysis (PCA)? How is it different from\n",
        "feature selection?\n",
        "\n",
        "Ans- Principal Component Analysis (PCA):\n",
        "It is a dimensionality reduction technique that transforms original features into a smaller set of new, uncorrelated features (called principal components) that capture maximum variance in the data.\n",
        "\n",
        "Difference from Feature Selection:\n",
        "\n",
        "PCA: Creates new features by combining existing ones (feature transformation).\n",
        "\n",
        "Feature Selection: Keeps only the most important original features, discarding the rest."
      ],
      "metadata": {
        "id": "-2ctVzsRU8gY"
      }
    },
    {
      "cell_type": "markdown",
      "source": [
        "4. What are eigenvalues and eigenvectors in PCA, and why are they\n",
        "important?\n",
        "\n",
        "Ans- Eigenvalues and Eigenvectors in PCA:\n",
        "\n",
        "Eigenvectors: Directions (axes) along which the data varies the most → define the principal components.\n",
        "\n",
        "Eigenvalues: Magnitude of variance captured by each eigenvector → tell how important each component is.\n",
        "\n",
        "Importance:\n",
        "\n",
        "Eigenvectors = new feature directions.\n",
        "\n",
        "Eigenvalues = decide how much variance each direction explains → used to rank/select components."
      ],
      "metadata": {
        "id": "va26riSbVFnD"
      }
    },
    {
      "cell_type": "markdown",
      "source": [
        "5.  How do KNN and PCA complement each other when applied in a single\n",
        "pipeline?\n",
        "\n",
        "Ans- KNN + PCA in a pipeline:\n",
        "\n",
        "PCA reduces dimensionality, removes noise, and keeps only the most informative features.\n",
        "\n",
        "KNN then works better because distances between points become more meaningful in lower dimensions."
      ],
      "metadata": {
        "id": "9RBqk78aVPRC"
      }
    },
    {
      "cell_type": "markdown",
      "source": [
        "6. Train a KNN Classifier on the Wine dataset with and without feature\n",
        "scaling. Compare model accuracy in both cases."
      ],
      "metadata": {
        "id": "21Ty6lVfVYYL"
      }
    },
    {
      "cell_type": "code",
      "source": [
        "# Import libraries\n",
        "from sklearn.datasets import load_wine\n",
        "from sklearn.model_selection import train_test_split\n",
        "from sklearn.neighbors import KNeighborsClassifier\n",
        "from sklearn.preprocessing import StandardScaler\n",
        "from sklearn.metrics import accuracy_score\n",
        "import matplotlib.pyplot as plt\n",
        "\n",
        "# Load Wine dataset\n",
        "wine = load_wine()\n",
        "X, y = wine.data, wine.target\n",
        "\n",
        "# Train-test split\n",
        "X_train, X_test, y_train, y_test = train_test_split(\n",
        "    X, y, test_size=0.2, random_state=42, stratify=y\n",
        ")\n",
        "\n",
        "# --- KNN Without Scaling ---\n",
        "knn_no_scaling = KNeighborsClassifier(n_neighbors=5)\n",
        "knn_no_scaling.fit(X_train, y_train)\n",
        "y_pred_no_scaling = knn_no_scaling.predict(X_test)\n",
        "acc_no_scaling = accuracy_score(y_test, y_pred_no_scaling)\n",
        "\n",
        "# --- KNN With Scaling ---\n",
        "scaler = StandardScaler()\n",
        "X_train_scaled = scaler.fit_transform(X_train)\n",
        "X_test_scaled = scaler.transform(X_test)\n",
        "\n",
        "knn_scaling = KNeighborsClassifier(n_neighbors=5)\n",
        "knn_scaling.fit(X_train_scaled, y_train)\n",
        "y_pred_scaling = knn_scaling.predict(X_test_scaled)\n",
        "acc_scaling = accuracy_score(y_test, y_pred_scaling)\n",
        "\n",
        "# Print results\n",
        "print(\"KNN Accuracy without Scaling:\", acc_no_scaling)\n",
        "print(\"KNN Accuracy with Scaling:\", acc_scaling)\n",
        "\n",
        "# Plot comparison\n",
        "methods = [\"Without Scaling\", \"With Scaling\"]\n",
        "accuracies = [acc_no_scaling, acc_scaling]\n",
        "\n",
        "plt.bar(methods, accuracies, color=[\"red\", \"green\"])\n",
        "plt.ylabel(\"Accuracy\")\n",
        "plt.title(\"KNN Accuracy on Wine Dataset (With vs Without Scaling)\")\n",
        "plt.ylim(0, 1)\n",
        "plt.show()\n"
      ],
      "metadata": {
        "colab": {
          "base_uri": "https://localhost:8080/",
          "height": 488
        },
        "id": "6q3IKaS_V4NQ",
        "outputId": "3b3b09ea-b65d-4586-d01f-7752ba69c5f4"
      },
      "execution_count": 1,
      "outputs": [
        {
          "output_type": "stream",
          "name": "stdout",
          "text": [
            "KNN Accuracy without Scaling: 0.8055555555555556\n",
            "KNN Accuracy with Scaling: 0.9722222222222222\n"
          ]
        },
        {
          "output_type": "display_data",
          "data": {
            "text/plain": [
              "<Figure size 640x480 with 1 Axes>"
            ],
            "image/png": "[encoded data removed]"
          },
          "metadata": {}
        }
      ]
    },
    {
      "cell_type": "markdown",
      "source": [
        "7. : Train a PCA model on the Wine dataset and print the explained variance\n",
        "ratio of each principal component."
      ],
      "metadata": {
        "id": "Qf7cLvdNWAGf"
      }
    },
    {
      "cell_type": "code",
      "source": [
        "# Import libraries\n",
        "from sklearn.datasets import load_wine\n",
        "from sklearn.decomposition import PCA\n",
        "\n",
        "# Load Wine dataset\n",
        "wine = load_wine()\n",
        "X, y = wine.data, wine.target\n",
        "\n",
        "# Apply PCA (keep all components)\n",
        "pca = PCA()\n",
        "pca.fit(X)\n",
        "\n",
        "# Print explained variance ratio\n",
        "print(\"Explained Variance Ratio of each Principal Component:\")\n",
        "print(pca.explained_variance_ratio_)\n"
      ],
      "metadata": {
        "colab": {
          "base_uri": "https://localhost:8080/"
        },
        "id": "qPguxJvYWJCu",
        "outputId": "3d3c01cd-ac4d-4dcc-fcc8-d2b63509afa7"
      },
      "execution_count": 2,
      "outputs": [
        {
          "output_type": "stream",
          "name": "stdout",
          "text": [
            "Explained Variance Ratio of each Principal Component:\n",
            "[9.98091230e-01 1.73591562e-03 9.49589576e-05 5.02173562e-05\n",
            " 1.23636847e-05 8.46213034e-06 2.80681456e-06 1.52308053e-06\n",
            " 1.12783044e-06 7.21415811e-07 3.78060267e-07 2.12013755e-07\n",
            " 8.25392788e-08]\n"
          ]
        }
      ]
    },
    {
      "cell_type": "markdown",
      "source": [
        "8.  Train a KNN Classifier on the PCA-transformed dataset (retain top 2\n",
        "components). Compare the accuracy with the original dataset.\n"
      ],
      "metadata": {
        "id": "pKe3sFYtWNwB"
      }
    },
    {
      "cell_type": "code",
      "source": [
        "# Import libraries\n",
        "from sklearn.datasets import load_wine\n",
        "from sklearn.model_selection import train_test_split\n",
        "from sklearn.neighbors import KNeighborsClassifier\n",
        "from sklearn.preprocessing import StandardScaler\n",
        "from sklearn.decomposition import PCA\n",
        "from sklearn.metrics import accuracy_score\n",
        "\n",
        "# Load Wine dataset\n",
        "wine = load_wine()\n",
        "X, y = wine.data, wine.target\n",
        "\n",
        "# Train-test split\n",
        "X_train, X_test, y_train, y_test = train_test_split(\n",
        "    X, y, test_size=0.2, random_state=42, stratify=y\n",
        ")\n",
        "\n",
        "# --- KNN on Original Dataset (with scaling) ---\n",
        "scaler = StandardScaler()\n",
        "X_train_scaled = scaler.fit_transform(X_train)\n",
        "X_test_scaled = scaler.transform(X_test)\n",
        "\n",
        "knn_original = KNeighborsClassifier(n_neighbors=5)\n",
        "knn_original.fit(X_train_scaled, y_train)\n",
        "acc_original = accuracy_score(y_test, knn_original.predict(X_test_scaled))\n",
        "\n",
        "# --- PCA Transformation (retain top 2 components) ---\n",
        "pca = PCA(n_components=2)\n",
        "X_train_pca = pca.fit_transform(X_train_scaled)\n",
        "X_test_pca = pca.transform(X_test_scaled)\n",
        "\n",
        "knn_pca = KNeighborsClassifier(n_neighbors=5)\n",
        "knn_pca.fit(X_train_pca, y_train)\n",
        "acc_pca = accuracy_score(y_test, knn_pca.predict(X_test_pca))\n",
        "\n",
        "# Print results\n",
        "print(\"KNN Accuracy on Original Dataset (scaled):\", acc_original)\n",
        "print(\"KNN Accuracy on PCA-transformed Dataset (2 components):\", acc_pca)\n"
      ],
      "metadata": {
        "colab": {
          "base_uri": "https://localhost:8080/"
        },
        "id": "4NR51eJTWh1d",
        "outputId": "71e63954-89d5-444d-ca9c-01f353c47f3c"
      },
      "execution_count": 3,
      "outputs": [
        {
          "output_type": "stream",
          "name": "stdout",
          "text": [
            "KNN Accuracy on Original Dataset (scaled): 0.9722222222222222\n",
            "KNN Accuracy on PCA-transformed Dataset (2 components): 0.9166666666666666\n"
          ]
        }
      ]
    },
    {
      "cell_type": "markdown",
      "source": [
        "9.  Train a KNN Classifier with different distance metrics (euclidean,\n",
        "manhattan) on the scaled Wine dataset and compare the results.\n"
      ],
      "metadata": {
        "id": "4kGHiToBWjex"
      }
    },
    {
      "cell_type": "code",
      "source": [
        "# Import libraries\n",
        "from sklearn.datasets import load_wine\n",
        "from sklearn.model_selection import train_test_split\n",
        "from sklearn.neighbors import KNeighborsClassifier\n",
        "from sklearn.preprocessing import StandardScaler\n",
        "from sklearn.metrics import accuracy_score\n",
        "\n",
        "# Load Wine dataset\n",
        "wine = load_wine()\n",
        "X, y = wine.data, wine.target\n",
        "\n",
        "# Train-test split\n",
        "X_train, X_test, y_train, y_test = train_test_split(\n",
        "    X, y, test_size=0.2, random_state=42, stratify=y\n",
        ")\n",
        "\n",
        "# Feature scaling\n",
        "scaler = StandardScaler()\n",
        "X_train_scaled = scaler.fit_transform(X_train)\n",
        "X_test_scaled = scaler.transform(X_test)\n",
        "\n",
        "# --- KNN with Euclidean Distance ---\n",
        "knn_euclidean = KNeighborsClassifier(n_neighbors=5, metric=\"euclidean\")\n",
        "knn_euclidean.fit(X_train_scaled, y_train)\n",
        "acc_euclidean = accuracy_score(y_test, knn_euclidean.predict(X_test_scaled))\n",
        "\n",
        "# --- KNN with Manhattan Distance ---\n",
        "knn_manhattan = KNeighborsClassifier(n_neighbors=5, metric=\"manhattan\")\n",
        "knn_manhattan.fit(X_train_scaled, y_train)\n",
        "acc_manhattan = accuracy_score(y_test, knn_manhattan.predict(X_test_scaled))\n",
        "\n",
        "# Print results\n",
        "print(\"KNN Accuracy with Euclidean Distance:\", acc_euclidean)\n",
        "print(\"KNN Accuracy with Manhattan Distance:\", acc_manhattan)\n"
      ],
      "metadata": {
        "colab": {
          "base_uri": "https://localhost:8080/"
        },
        "id": "VFcRMsKhWv8S",
        "outputId": "6d6842ec-a31d-44b2-fd2d-7e782cabdb10"
      },
      "execution_count": 4,
      "outputs": [
        {
          "output_type": "stream",
          "name": "stdout",
          "text": [
            "KNN Accuracy with Euclidean Distance: 0.9722222222222222\n",
            "KNN Accuracy with Manhattan Distance: 1.0\n"
          ]
        }
      ]
    },
    {
      "cell_type": "markdown",
      "source": [
        "10. : You are working with a high-dimensional gene expression dataset to\n",
        "classify patients with different types of cancer.\n",
        "Due to the large number of features and a small number of samples, traditional models\n",
        "overfit.\n",
        "Explain how you would:\n",
        "● Use PCA to reduce dimensionality\n",
        "● Decide how many components to keep\n",
        "● Use KNN for classification post-dimensionality reduction\n",
        "● Evaluate the model\n",
        "● Justify this pipeline to your stakeholders as a robust solution for real-world\n",
        "biomedical data\n",
        "\n",
        " Ans- Use PCA to remove noisy, redundant gene features and concentrate variance into fewer axes (principal components).\n",
        "Frontiers\n",
        "\n",
        "Decide components by (a) cumulative explained variance (e.g., 90–99%) or (b) use nested CV/grid search to pick n_components that gives best validation performance.\n",
        "mikulskibartosz.name\n",
        "Oxford Academic\n",
        "\n",
        "KNN after PCA: fit scaler → PCA (with chosen n_components) → KNN; KNN benefits because distances are more meaningful in lower-dim space.\n",
        "DIVA Portal\n",
        "\n",
        "Evaluate with nested CV (outer fold for performance, inner fold for hyperparameter selection) using stratified folds and metrics such as balanced accuracy / macro F1 / ROC-AUC (if binary).\n",
        "PMC\n",
        "\n",
        "Stakeholder justification: reduces overfitting, improves interpretability (scree / variance explained), reproducible selection via nested CV, and uses a well-understood, computationally efficient pipeline frequently used in genomics."
      ],
      "metadata": {
        "id": "ORxiE3qSWyyE"
      }
    },
    {
      "cell_type": "code",
      "source": [
        "# -*- coding: utf-8 -*-\n",
        "\"\"\"\n",
        "Pipeline: scaling -> PCA -> KNN with nested CV for a high-dim gene expression dataset\n",
        "Replace the data-loading section with your real data (CSV, hdf5, scikit-learn loader, etc.)\n",
        "\"\"\"\n",
        "\n",
        "import numpy as np\n",
        "import pandas as pd\n",
        "from sklearn.model_selection import StratifiedKFold, GridSearchCV, cross_val_score\n",
        "from sklearn.pipeline import Pipeline\n",
        "from sklearn.preprocessing import StandardScaler\n",
        "from sklearn.decomposition import PCA\n",
        "from sklearn.neighbors import KNeighborsClassifier\n",
        "from sklearn.metrics import make_scorer, balanced_accuracy_score, f1_score, accuracy_score\n",
        "from sklearn.metrics import classification_report\n",
        "\n",
        "# -----------------------\n",
        "# 1) LOAD DATA (replace this with your loader)\n",
        "# -----------------------\n",
        "# Example: assume CSVs with samples as rows, genes as columns, and 'label' column for class\n",
        "# df = pd.read_csv(\"gene_expression.csv\")\n",
        "# X = df.drop(columns=[\"label\"]).values\n",
        "# y = df[\"label\"].values\n",
        "\n",
        "# For demonstration, here is a placeholder using sklearn's breast cancer (replace in real use)\n",
        "from sklearn.datasets import load_breast_cancer\n",
        "data = load_breast_cancer()\n",
        "X = data.data   # <- replace with gene matrix (samples x genes)\n",
        "y = data.target\n",
        "\n",
        "# -----------------------\n",
        "# 2) Quick PCA exploratory step (compute explained variance to guide initial choice)\n",
        "# -----------------------\n",
        "from sklearn.preprocessing import StandardScaler\n",
        "scaler_tmp = StandardScaler()\n",
        "X_scaled_tmp = scaler_tmp.fit_transform(X)\n",
        "\n",
        "pca_tmp = PCA(n_components=min(X_scaled_tmp.shape[0], X_scaled_tmp.shape[1]))\n",
        "pca_tmp.fit(X_scaled_tmp)\n",
        "explained = pca_tmp.explained_variance_ratio_\n",
        "cumulative = np.cumsum(explained)\n",
        "\n",
        "# Print first few cumulative explained ratios\n",
        "print(\"Cumulative explained variance (first 20 components):\")\n",
        "for i, val in enumerate(cumulative[:20], start=1):\n",
        "    print(f\"PC{i}: {val:.4f}\")\n",
        "\n",
        "# Option A: pick n_components by threshold (e.g., 0.95)\n",
        "threshold = 0.95\n",
        "n_comp_by_threshold = int(np.searchsorted(cumulative, threshold) + 1)\n",
        "print(f\"\\nComponents to reach {threshold*100:.0f}% variance: {n_comp_by_threshold}\")\n",
        "\n",
        "# -----------------------\n",
        "# 3) Nested CV with pipeline (automated selection of n_components and KNN hyperparams)\n",
        "# -----------------------\n",
        "pipe = Pipeline([\n",
        "    (\"scaler\", StandardScaler()),\n",
        "    (\"pca\", PCA()),             # n_components will be tuned\n",
        "    (\"knn\", KNeighborsClassifier())\n",
        "])\n",
        "\n",
        "# Grid of hyperparameters\n",
        "param_grid = {\n",
        "    \"pca__n_components\": [5, 10, 20, 50],            # adapt depending on your data size\n",
        "    \"knn__n_neighbors\": [3, 5, 7, 9],\n",
        "    \"knn__metric\": [\"euclidean\", \"manhattan\"]\n",
        "}\n",
        "\n",
        "# Scoring: use balanced accuracy and macro-F1 (custom scorer for grid if needed)\n",
        "scoring = {\n",
        "    \"bal_acc\": make_scorer(balanced_accuracy_score),\n",
        "    \"macro_f1\": make_scorer(f1_score, average=\"macro\")\n",
        "}\n",
        "\n",
        "# Inner CV (for hyperparameter search)\n",
        "inner_cv = StratifiedKFold(n_splits=5, shuffle=True, random_state=42)\n",
        "\n",
        "grid = GridSearchCV(\n",
        "    estimator=pipe,\n",
        "    param_grid=param_grid,\n",
        "    scoring=scoring,\n",
        "    refit=\"bal_acc\",          # which metric to use for selecting best parameters\n",
        "    cv=inner_cv,\n",
        "    n_jobs=-1,\n",
        "    verbose=1\n",
        ")\n",
        "\n",
        "# Outer CV (for honest performance estimate)\n",
        "outer_cv = StratifiedKFold(n_splits=5, shuffle=True, random_state=1)\n",
        "\n",
        "# Perform nested CV - this runs GridSearch inside each outer fold\n",
        "# cross_val_score will return the 'bal_acc' (since GridSearchCV refit uses that metric)\n",
        "nested_scores = cross_val_score(grid, X, y, cv=outer_cv, scoring=make_scorer(balanced_accuracy_score), n_jobs=-1)\n",
        "\n",
        "print(\"\\nNested CV balanced-accuracy scores (outer folds):\", nested_scores)\n",
        "print(\"Mean balanced-accuracy: {:.4f} ± {:.4f}\".format(nested_scores.mean(), nested_scores.std()))\n",
        "\n",
        "# -----------------------\n",
        "# 4) Fit final model on full data using best params found by GridSearchCV on entire dataset\n",
        "# -----------------------\n",
        "# Re-run GridSearch on whole dataset to get best estimator\n",
        "grid.fit(X, y)\n",
        "print(\"\\nBest params found (on full training data):\", grid.best_params_)\n",
        "best_model = grid.best_estimator_\n",
        "\n",
        "# Optional: show explained variance of selected n_components\n",
        "if hasattr(best_model.named_steps[\"pca\"], \"explained_variance_ratio_\"):\n",
        "    evr = best_model.named_steps[\"pca\"].explained_variance_ratio_\n",
        "    print(\"\\nExplained variance ratio of PCA components used:\")\n",
        "    for i, v in enumerate(evr, start=1):\n",
        "        print(f\"PC{i}: {v:.4e}\")\n",
        "\n",
        "# -----------------------\n",
        "# 5) If you have a held-out test set, evaluate final model:\n",
        "# -----------------------\n",
        "# Example (if you had X_test, y_test):\n",
        "# y_pred = best_model.predict(X_test)\n",
        "# print(classification_report(y_test, y_pred))\n",
        "# print(\"Balanced acc:\", balanced_accuracy_score(y_test, y_pred))\n"
      ],
      "metadata": {
        "colab": {
          "base_uri": "https://localhost:8080/"
        },
        "id": "RP_0_astXEV7",
        "outputId": "84094fb3-88f6-40b4-db69-36f62f203297"
      },
      "execution_count": 5,
      "outputs": [
        {
          "output_type": "stream",
          "name": "stdout",
          "text": [
            "Cumulative explained variance (first 20 components):\n",
            "PC1: 0.4427\n",
            "PC2: 0.6324\n",
            "PC3: 0.7264\n",
            "PC4: 0.7924\n",
            "PC5: 0.8473\n",
            "PC6: 0.8876\n",
            "PC7: 0.9101\n",
            "PC8: 0.9260\n",
            "PC9: 0.9399\n",
            "PC10: 0.9516\n",
            "PC11: 0.9614\n",
            "PC12: 0.9701\n",
            "PC13: 0.9781\n",
            "PC14: 0.9834\n",
            "PC15: 0.9865\n",
            "PC16: 0.9892\n",
            "PC17: 0.9911\n",
            "PC18: 0.9929\n",
            "PC19: 0.9945\n",
            "PC20: 0.9956\n",
            "\n",
            "Components to reach 95% variance: 10\n",
            "\n",
            "Nested CV balanced-accuracy scores (outer folds): [0.95807403 0.98837209 0.96230159 0.95734127 0.95724346]\n",
            "Mean balanced-accuracy: 0.9647 ± 0.0120\n",
            "Fitting 5 folds for each of 32 candidates, totalling 160 fits\n",
            "\n",
            "Best params found (on full training data): {'knn__metric': 'euclidean', 'knn__n_neighbors': 9, 'pca__n_components': 20}\n",
            "\n",
            "Explained variance ratio of PCA components used:\n",
            "PC1: 4.4272e-01\n",
            "PC2: 1.8971e-01\n",
            "PC3: 9.3932e-02\n",
            "PC4: 6.6021e-02\n",
            "PC5: 5.4958e-02\n",
            "PC6: 4.0245e-02\n",
            "PC7: 2.2507e-02\n",
            "PC8: 1.5887e-02\n",
            "PC9: 1.3896e-02\n",
            "PC10: 1.1690e-02\n",
            "PC11: 9.7972e-03\n",
            "PC12: 8.7054e-03\n",
            "PC13: 8.0452e-03\n",
            "PC14: 5.2337e-03\n",
            "PC15: 3.1378e-03\n",
            "PC16: 2.6621e-03\n",
            "PC17: 1.9800e-03\n",
            "PC18: 1.7540e-03\n",
            "PC19: 1.6493e-03\n",
            "PC20: 1.0386e-03\n"
          ]
        },
        {
          "output_type": "stream",
          "name": "stderr",
          "text": [
            "/usr/local/lib/python3.12/dist-packages/sklearn/model_selection/_validation.py:528: FitFailedWarning: \n",
            "40 fits failed out of a total of 160.\n",
            "The score on these train-test partitions for these parameters will be set to nan.\n",
            "If these failures are not expected, you can try to debug them by setting error_score='raise'.\n",
            "\n",
            "Below are more details about the failures:\n",
            "--------------------------------------------------------------------------------\n",
            "40 fits failed with the following error:\n",
            "Traceback (most recent call last):\n",
            "  File \"/usr/local/lib/python3.12/dist-packages/sklearn/model_selection/_validation.py\", line 866, in _fit_and_score\n",
            "    estimator.fit(X_train, y_train, **fit_params)\n",
            "  File \"/usr/local/lib/python3.12/dist-packages/sklearn/base.py\", line 1389, in wrapper\n",
            "    return fit_method(estimator, *args, **kwargs)\n",
            "           ^^^^^^^^^^^^^^^^^^^^^^^^^^^^^^^^^^^^^^\n",
            "  File \"/usr/local/lib/python3.12/dist-packages/sklearn/pipeline.py\", line 654, in fit\n",
            "    Xt = self._fit(X, y, routed_params, raw_params=params)\n",
            "         ^^^^^^^^^^^^^^^^^^^^^^^^^^^^^^^^^^^^^^^^^^^^^^^^^\n",
            "  File \"/usr/local/lib/python3.12/dist-packages/sklearn/pipeline.py\", line 588, in _fit\n",
            "    X, fitted_transformer = fit_transform_one_cached(\n",
            "                            ^^^^^^^^^^^^^^^^^^^^^^^^^\n",
            "  File \"/usr/local/lib/python3.12/dist-packages/joblib/memory.py\", line 326, in __call__\n",
            "    return self.func(*args, **kwargs)\n",
            "           ^^^^^^^^^^^^^^^^^^^^^^^^^^\n",
            "  File \"/usr/local/lib/python3.12/dist-packages/sklearn/pipeline.py\", line 1551, in _fit_transform_one\n",
            "    res = transformer.fit_transform(X, y, **params.get(\"fit_transform\", {}))\n",
            "          ^^^^^^^^^^^^^^^^^^^^^^^^^^^^^^^^^^^^^^^^^^^^^^^^^^^^^^^^^^^^^^^^^^\n",
            "  File \"/usr/local/lib/python3.12/dist-packages/sklearn/utils/_set_output.py\", line 319, in wrapped\n",
            "    data_to_wrap = f(self, X, *args, **kwargs)\n",
            "                   ^^^^^^^^^^^^^^^^^^^^^^^^^^^\n",
            "  File \"/usr/local/lib/python3.12/dist-packages/sklearn/base.py\", line 1389, in wrapper\n",
            "    return fit_method(estimator, *args, **kwargs)\n",
            "           ^^^^^^^^^^^^^^^^^^^^^^^^^^^^^^^^^^^^^^\n",
            "  File \"/usr/local/lib/python3.12/dist-packages/sklearn/decomposition/_pca.py\", line 468, in fit_transform\n",
            "    U, S, _, X, x_is_centered, xp = self._fit(X)\n",
            "                                    ^^^^^^^^^^^^\n",
            "  File \"/usr/local/lib/python3.12/dist-packages/sklearn/decomposition/_pca.py\", line 542, in _fit\n",
            "    return self._fit_full(X, n_components, xp, is_array_api_compliant)\n",
            "           ^^^^^^^^^^^^^^^^^^^^^^^^^^^^^^^^^^^^^^^^^^^^^^^^^^^^^^^^^^^\n",
            "  File \"/usr/local/lib/python3.12/dist-packages/sklearn/decomposition/_pca.py\", line 556, in _fit_full\n",
            "    raise ValueError(\n",
            "ValueError: n_components=50 must be between 0 and min(n_samples, n_features)=30 with svd_solver='covariance_eigh'\n",
            "\n",
            "  warnings.warn(some_fits_failed_message, FitFailedWarning)\n",
            "/usr/local/lib/python3.12/dist-packages/sklearn/model_selection/_search.py:1108: UserWarning: One or more of the test scores are non-finite: [0.94359913 0.95155851 0.95765393        nan 0.94599964 0.95632042\n",
            " 0.9539199         nan 0.94371318 0.95532835 0.9530777         nan\n",
            " 0.95022499 0.95062182 0.95818106        nan 0.94598008 0.95624548\n",
            " 0.95630085        nan 0.95018587 0.95388409 0.95626505        nan\n",
            " 0.94089628 0.9539199  0.95242709        nan 0.94277649 0.95574474\n",
            " 0.95713363        nan]\n",
            "  warnings.warn(\n",
            "/usr/local/lib/python3.12/dist-packages/sklearn/model_selection/_search.py:1108: UserWarning: One or more of the test scores are non-finite: [0.94679704 0.95621649 0.96181696        nan 0.94872513 0.960046\n",
            " 0.95806839        nan 0.94674218 0.95992085 0.95794209        nan\n",
            " 0.95427243 0.95595817 0.96361535        nan 0.94875332 0.96007637\n",
            " 0.96001267        nan 0.9543145  0.95821557 0.9599491         nan\n",
            " 0.94307108 0.95815322 0.9596989         nan 0.94654285 0.96170377\n",
            " 0.96350655        nan]\n",
            "  warnings.warn(\n"
          ]
        }
      ]
    }
  ]
}